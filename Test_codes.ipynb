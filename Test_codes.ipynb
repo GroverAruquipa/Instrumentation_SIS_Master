{
 "cells": [
  {
   "cell_type": "markdown",
   "metadata": {},
   "source": [
    "Connection and test notebook Instrumentation TP1"
   ]
  },
  {
   "cell_type": "code",
   "execution_count": null,
   "metadata": {},
   "outputs": [],
   "source": [
    "import pyvisa as visa\n",
    "import time\n",
    "import numpy as np\n",
    "import csv\n",
    "\n",
    "import matplotlib\n",
    "import matplotlib.pyplot as plt\n",
    "matplotlib.style.use('fivethirtyeight')\n",
    "from matplotlib import cm\n",
    "plt.rcParams[\"font.sans-serif\"] = \"Raleway\"\n",
    "filesave=\"MesuresFiltre.csv\"\n",
    "\n",
    "\n",
    "#rm = visa.ResourceManager('@py')\n",
    "rm = visa.ResourceManager()\n",
    "instruments = rm.list_resources()\n",
    "#oscilloscope = rm.open_resource('USB0::0x1AB1::0x04CE::DS1ZA192712222::INSTR')\n",
    "#generator= rm.open_resource('USB0::0x0400::0x09C4::DG1D184350683::INSTR')\n",
    "\n",
    "oscilloscope = rm.open_resource('USB0::0x1AB1::0x04CE::DS1ZA192712238::INSTR')\n",
    "generator= rm.open_resource('USB0::0x0400::0x09C4::DG1D184350683::INSTR')"
   ]
  },
  {
   "cell_type": "markdown",
   "metadata": {},
   "source": [
    "Connection Test"
   ]
  },
  {
   "cell_type": "code",
   "execution_count": null,
   "metadata": {},
   "outputs": [],
   "source": [
    "FREQ_MIN=2 #Power of 10\n",
    "FREQ_MAX=5 #Power of 10\n",
    "NB=60\n",
    "filesave=\"MesuresFiltre.csv\"\n",
    "\n",
    "\n",
    "#rm = visa.ResourceManager('@py')\n",
    "rm = visa.ResourceManager()\n",
    "instruments = rm.list_resources()\n",
    "oscilloscope = rm.open_resource('USB0::0x1AB1::0x04CE::DS1ZA192712222::INSTR')\n",
    "generator= rm.open_resource('USB0::0x0400::0x09C4::DG1D184350683::INSTR')\n",
    "\n",
    "\n",
    "print(oscilloscope)\n",
    "print(instruments)\n",
    "print(oscilloscope.write(\"*IDN?\"))\n",
    "time.sleep(5)\n",
    "print(oscilloscope.read())\n",
    "\n"
   ]
  },
  {
   "cell_type": "code",
   "execution_count": null,
   "metadata": {},
   "outputs": [],
   "source": [
    "instruments"
   ]
  },
  {
   "cell_type": "code",
   "execution_count": null,
   "metadata": {},
   "outputs": [],
   "source": []
  },
  {
   "cell_type": "code",
   "execution_count": null,
   "metadata": {},
   "outputs": [],
   "source": [
    "FREQ_MIN=2 #Power of 10\n",
    "FREQ_MAX=5 #Power of 10\n",
    "NB=60\n"
   ]
  },
  {
   "cell_type": "code",
   "execution_count": null,
   "metadata": {},
   "outputs": [],
   "source": [
    "#generator.query(\"*RST\")\n",
    "#oscilloscope.query(\"*RST\")\n",
    "oscilloscope.write(\":AUT\")"
   ]
  },
  {
   "cell_type": "code",
   "execution_count": null,
   "metadata": {},
   "outputs": [],
   "source": [
    "oscilloscope.write(\":RST\")"
   ]
  },
  {
   "cell_type": "code",
   "execution_count": null,
   "metadata": {},
   "outputs": [],
   "source": [
    "   \n",
    "#print(oscilloscope.query(\":LA:STATe?\"))\n",
    "#print(oscilloscope.query(\":CHANnel1:DISPlay?\"))\n",
    "try:\n",
    "    status=oscilloscope.query(\":CHANnel1:DISPlay?\")\n",
    "    print(status)\n",
    "except:\n",
    "    status=0\n",
    "    print(status)\n",
    "print(status)\n"
   ]
  },
  {
   "cell_type": "code",
   "execution_count": null,
   "metadata": {},
   "outputs": [],
   "source": [
    ":ACQuire:AVERages?\n",
    "data=float(oscilloscope.query(\":ACQuire:AVERages? CHAN1\"))\n",
    "data"
   ]
  },
  {
   "cell_type": "markdown",
   "metadata": {},
   "source": [
    "READ DATA"
   ]
  },
  {
   "cell_type": "code",
   "execution_count": null,
   "metadata": {},
   "outputs": [],
   "source": [
    "xa=float(oscilloscope.query(\":MEAS:FREQ? CHAN1\",2))\n",
    "xa"
   ]
  },
  {
   "cell_type": "code",
   "execution_count": null,
   "metadata": {},
   "outputs": [],
   "source": [
    "xb=  oscilloscope.query(\":WAVeform:STARt? CHAN1\",2)\n",
    "xb"
   ]
  },
  {
   "cell_type": "code",
   "execution_count": null,
   "metadata": {},
   "outputs": [],
   "source": [
    "print(oscilloscope.write(\":WAVeform:FORMat?\"))"
   ]
  },
  {
   "cell_type": "code",
   "execution_count": null,
   "metadata": {},
   "outputs": [],
   "source": [
    "myScope=oscilloscope\n",
    "oscilloscope.write(\"WGEN:FREQ 50000\")\n",
    "oscilloscope.write(\"WGEN:FUNC SIN\")\n",
    "oscilloscope.write(\"WGEN:OUTP ON\")\n",
    "oscilloscope.write(\"WGEN:VOLT 2\")\n",
    "\n",
    "oscilloscope.write(\":TIMebase:SCALe 3.0E-5\")\n",
    "oscilloscope.write(\":WAVeform:SOURce CHANnel1\")\n",
    "oscilloscope.write(\":WAVeform:FORMat ASCII\")\n",
    "oscilloscope.write(\":WAVeform:POINts 1000\")\n",
    "\n",
    "datai = oscilloscope.query(\"WAVeform:DATA?\")\n",
    "\n",
    "print(datai)\n",
    "\n"
   ]
  },
  {
   "cell_type": "code",
   "execution_count": null,
   "metadata": {},
   "outputs": [],
   "source": [
    "def delete_hash(string):\n",
    "    return string.replace(\"#\", \"\")\n",
    "def extract_data(string, separator=','):\n",
    "    return [float(x) for x in string.split(separator)]\n",
    "def linspace(start, stop, n):\n",
    "    return np.linspace(start, stop, n)\n",
    "def delete_first_element(list):\n",
    "    return list[1:]\n",
    "data=delete_hash(datai)\n",
    "\n",
    "data1=extract_data(data)\n",
    "data1=delete_first_element(data1)\n",
    "x=linspace(0,len(data1), len(data1))"
   ]
  },
  {
   "cell_type": "code",
   "execution_count": null,
   "metadata": {},
   "outputs": [],
   "source": [
    "datai"
   ]
  },
  {
   "cell_type": "code",
   "execution_count": null,
   "metadata": {},
   "outputs": [],
   "source": [
    "import matplotlib.pyplot as plt\n",
    "plt.plot(x, data1, '-o')"
   ]
  },
  {
   "cell_type": "code",
   "execution_count": null,
   "metadata": {},
   "outputs": [],
   "source": []
  },
  {
   "cell_type": "code",
   "execution_count": null,
   "metadata": {},
   "outputs": [],
   "source": [
    "oscilloscope.write(\":WAVeform:SOURce CHAN1\")\n",
    "oscilloscope.write(\":WAVeform:FORMat WORD CHAN1\")\n",
    "oscilloscope.write(\":WAV:MODE RAW\")\n",
    "#oscilloscope.write(\":WAVeform:MODE RAW CHANnel1\")\n",
    "xb=  oscilloscope.query(\":WAV:DATA?\")\n",
    "xb\n",
    "#xb=  oscilloscope.query(\":WAVeform:STARt? CHAN1\")\n",
    "#xb"
   ]
  },
  {
   "cell_type": "code",
   "execution_count": null,
   "metadata": {},
   "outputs": [],
   "source": [
    "generator.query(\"*RST\")\n",
    "oscilloscope.query(\"*RST\")\n",
    "time.sleep(5)\n",
    "# Ruta de una banda de frequency\n",
    "results = np.zeros((NB, 5))\n",
    "generator.query(\"OUTP ON\")"
   ]
  },
  {
   "cell_type": "markdown",
   "metadata": {},
   "source": [
    "Function tho change the parameters of function generator"
   ]
  },
  {
   "cell_type": "code",
   "execution_count": null,
   "metadata": {},
   "outputs": [],
   "source": []
  },
  {
   "cell_type": "code",
   "execution_count": null,
   "metadata": {},
   "outputs": [],
   "source": [
    "generator.write(\"APPL:SIN 3000,3.0,-2.5\")\n"
   ]
  },
  {
   "cell_type": "code",
   "execution_count": null,
   "metadata": {},
   "outputs": [],
   "source": [
    "var1='APPL'\n",
    "var2='SIN'\n",
    "var3='5000'\n",
    "var4='3.0'\n",
    "var5='-2.5'\n",
    "\n",
    "\n",
    "def concatenation(var1,var2,var3,var4,var5):\n",
    "    finalvar=var1+':'+var2+' '+var3+','+var4+','+var5\n",
    "    return finalvar\n",
    "fvar=concatenation(var1,var2,var3,var4,var5)\n",
    "print(fvar)\n",
    "myvar1 = \"Python\"\n",
    "\n",
    "myvar2 = \"Guides\"\n",
    "\n",
    "# use + operator to concatenate both strings\n",
    "\n",
    "myvar3 = myvar1 + ' ' + myvar2\n",
    "\n",
    "print(myvar3)"
   ]
  },
  {
   "cell_type": "code",
   "execution_count": null,
   "metadata": {},
   "outputs": [],
   "source": [
    "time_base = oscilloscope.query(\":TIM:SCAL?\")\n",
    "print(time_base)\n",
    "#oscilloscope.query(\":TIM:SCAL %f\"%(float(time_base)/4.0))\n",
    "#oscilloscope.query(\":CHAN2:COUPling AC\",4)\n",
    "AX=oscilloscope.query(\":MEASure:ITEM? OVERshoot,CHANnel2\",2)\n",
    "AX"
   ]
  },
  {
   "cell_type": "markdown",
   "metadata": {},
   "source": [
    "STATUS"
   ]
  },
  {
   "cell_type": "code",
   "execution_count": null,
   "metadata": {},
   "outputs": [],
   "source": [
    "oscilloscope.write(\":TIM:SCAL %f\"%(float(time_base)/4.0))"
   ]
  },
  {
   "cell_type": "code",
   "execution_count": null,
   "metadata": {},
   "outputs": [],
   "source": [
    "oscilloscope.write(\":CHANnel1:TCAL 0.00000008 %f\")"
   ]
  },
  {
   "cell_type": "code",
   "execution_count": null,
   "metadata": {},
   "outputs": [],
   "source": [
    "oscilloscope.write(\":CHAN2:COUP AC\")"
   ]
  },
  {
   "cell_type": "code",
   "execution_count": null,
   "metadata": {},
   "outputs": [],
   "source": [
    "aux1=float(oscilloscope.query(\":MEASure:PDELay? CHAN2\",1))"
   ]
  },
  {
   "cell_type": "code",
   "execution_count": null,
   "metadata": {},
   "outputs": [],
   "source": [
    "#aux1=float(oscilloscope.query(\":MEASure:ITEM? FPHase,CHANnel2\",2))\n",
    "#:MEASure:ITEM OVERshoot,CHANnel2\n",
    "#:MEASure:ITEM? OVERshoot,CHANnel2\n",
    "oscilloscope.write(\":MEASure:ITEM OVERshoot,CHANnel2\")        \n",
    "oscilloscope.query(\":MEASure:ITEM? OVERshoot,CHANnel2\")                \n"
   ]
  },
  {
   "cell_type": "code",
   "execution_count": null,
   "metadata": {},
   "outputs": [],
   "source": [
    "oscilloscope.write(\":MEASure:ITEM VPP,CHANnel2\")        \n",
    "oscilloscope.query(\":MEASure:ITEM? VPP,CHANnel2\") "
   ]
  },
  {
   "cell_type": "code",
   "execution_count": null,
   "metadata": {},
   "outputs": [],
   "source": []
  },
  {
   "cell_type": "markdown",
   "metadata": {},
   "source": [
    "Cycle with the generator"
   ]
  },
  {
   "cell_type": "code",
   "execution_count": null,
   "metadata": {},
   "outputs": [],
   "source": [
    "f=500\n",
    "generator.write(\"APPL:SIN %f,5.0,0.0\" % (f,))"
   ]
  },
  {
   "cell_type": "code",
   "execution_count": null,
   "metadata": {},
   "outputs": [],
   "source": [
    "'''\n",
    "time_base = oscilloscope.query(\":TIM:SCAL?\")\n",
    "time_base\n",
    "oscilloscope.write(\":TIM:SCAL %f\"%(float(time_base)/4.0))\n",
    "oscilloscope.write(\":CHAN2:COUP AC\")\n",
    "'''\n",
    "oscilloscope.write(\":RST\")\n",
    "oscilloscope.write(\":AUT\")\n",
    "oscilloscope.write(\":CHAN2:COUP AC\")\n",
    "oscilloscope.query(\":MEASure:ITEM? FDELay,CHANnel1,CHANnel2\",5)"
   ]
  },
  {
   "cell_type": "code",
   "execution_count": null,
   "metadata": {},
   "outputs": [],
   "source": [
    "import numpy as np\n",
    "FREQ_MIN=3 #Power of 10\n",
    "FREQ_MAX=5 #Power of 10\n",
    "NB=10\n",
    "Vector=np.logspace(FREQ_MIN, FREQ_MAX, NB)\n",
    "Vector"
   ]
  },
  {
   "cell_type": "code",
   "execution_count": null,
   "metadata": {},
   "outputs": [],
   "source": [
    "\n",
    "FREQ_MIN=3 #Power of 10\n",
    "\n",
    "FREQ_MAX=5 #Power of 10\n",
    "f=100\n",
    "NB=20\n",
    "fs=np.logspace(FREQ_MIN, FREQ_MAX, NB)\n",
    "generator= rm.open_resource('USB0::0x0400::0x09C4::DG1D184350683::INSTR')\n",
    "\n",
    "generator.write(\"APPL:SIN %f,5.0,0.0\" % (f,))\n",
    "oscilloscope.write(\":AUT\")\n",
    "\n",
    "fs\n",
    "#FREQ_MAX"
   ]
  },
  {
   "cell_type": "code",
   "execution_count": null,
   "metadata": {},
   "outputs": [],
   "source": [
    "oscilloscope.write(\":AUT\")\n"
   ]
  },
  {
   "cell_type": "code",
   "execution_count": null,
   "metadata": {},
   "outputs": [],
   "source": [
    "import numpy as np\n",
    "FREQ_MIN=0.5 #Power of 10\n",
    "FREQ_MAX=1.5 #Power of 10\n",
    "NB=10\n",
    "Vector=np.logspace(FREQ_MIN, FREQ_MAX, NB)\n",
    "Vector"
   ]
  },
  {
   "cell_type": "code",
   "execution_count": null,
   "metadata": {},
   "outputs": [],
   "source": [
    "generator.write(\"APPL:SIN %f,3.3.0,0.0\" % (1,))\n",
    "oscilloscope.write(\":AUT\")\n",
    "\n"
   ]
  },
  {
   "cell_type": "code",
   "execution_count": null,
   "metadata": {},
   "outputs": [],
   "source": [
    "generator.write(\"APPL:SIN %f,3.3.0,0.0\" % (100,))"
   ]
  },
  {
   "cell_type": "code",
   "execution_count": null,
   "metadata": {},
   "outputs": [],
   "source": [
    "oscilloscope.write(\":AUT\")"
   ]
  },
  {
   "cell_type": "markdown",
   "metadata": {},
   "source": [
    "Cycle to read an save data"
   ]
  },
  {
   "cell_type": "code",
   "execution_count": null,
   "metadata": {},
   "outputs": [],
   "source": [
    "#oscilloscope.write(\":MEASure:ITEM VPP,CHANnel2\")        \n",
    "#oscilloscope.query(\":MEASure:ITEM? VPP,CHANnel2\") \n",
    "#oscilloscope.write(\":MEASure:ITEM VPP,CHANnel1\")        \n",
    "#oscilloscope.query(\":MEASure:ITEM? VPP,CHANnel1\") \n",
    "import pyvisa as visa\n",
    "import time\n",
    "import numpy as np\n",
    "import csv\n",
    "\n",
    "import matplotlib\n",
    "import matplotlib.pyplot as plt\n",
    "matplotlib.style.use('fivethirtyeight')\n",
    "from matplotlib import cm\n",
    "plt.rcParams[\"font.sans-serif\"] = \"Raleway\"\n",
    "filesave=\"MesuresFiltre.csv\"\n",
    "\n",
    "\n",
    "#rm = visa.ResourceManager('@py')\n",
    "rm = visa.ResourceManager()\n",
    "instruments = rm.list_resources()\n",
    "#oscilloscope = rm.open_resource('USB0::0x1AB1::0x04CE::DS1ZA192712222::INSTR')\n",
    "#generator= rm.open_resource('USB0::0x0400::0x09C4::DG1D184350683::INSTR')\n",
    "\n",
    "oscilloscope = rm.open_resource('USB0::0x1AB1::0x04CE::DS1ZA192712238::INSTR')\n",
    "generator= rm.open_resource('USB0::0x0400::0x09C4::DG1D184350683::INSTR')\n",
    "\n",
    "\n",
    "cont=1\n",
    "NB=50\n",
    "results = np.zeros((NB, 6))\n",
    "#FREQ_MIN=0.2 #Power of 10\n",
    "FREQ_MIN=0 #Power of 10\n",
    "\n",
    "FREQ_MAX=2 #Power of 10\n",
    "#oscilloscope.write(\":RST\")\n",
    "#generator.write(\"APPL:SIN %f,3.3.0,0.0\" % (FREQ_MAX/2,))\n",
    "time.sleep(2)\n",
    "#oscilloscope.write(\":AUT\")\n",
    "time.sleep(5)\n",
    "filesave=\"MesuresFiltre.csv\"\n",
    "cont=0\n",
    "for idx, f in enumerate(np.logspace(FREQ_MIN, FREQ_MAX, NB)):\n",
    "    #generator.write(\"APPL:SIN 3000,3.0,-2.5\")\n",
    "    \n",
    "    generator.write(\"APPL:SIN %f,3.3.0,0.0\" % (f,))\n",
    "    #generator.query(\"APPL:SIN %f,1.0,0.0\" % (f,))\n",
    "    time.sleep(2)\n",
    "    if f>2000 and cont<1:\n",
    "        oscilloscope.write(\":AUT\")\n",
    "        time.sleep(3)\n",
    "        cont=cont+1\n",
    "    if f>50000 and cont<2:\n",
    "        osciloscope.write(\":AUT\")\n",
    "        time.sleep(3)\n",
    "        cont=cont+1\n",
    "        \n",
    "    #time.sleep(5) # Necesario para que se lleve a cabo el autoajuste\n",
    "    #time.sleep(0.2)\n",
    "    results[idx, 5] = float(oscilloscope.query(\":MEASure:ITEM? FPHase,CHANnel2,CHANnel1\", 0.8)) #:MEASure:FREQuency\n",
    "    #time.sleep(0.2)\n",
    "    \n",
    "    results[idx, 0] = float(oscilloscope.query(\":MEASure:ITEM? FDELay,CHANnel2,CHANnel1\", 0.8)) #:MEASure:FREQuency\n",
    "    #time.sleep(0.2)\n",
    "    results[idx, 1] = float(oscilloscope.query(\":MEASure:ITEM? VPP,CHANnel1\",0.8)) ## :WAV:DATA?\n",
    "    #time.sleep(0.5)\n",
    "    results[idx, 2] = float(oscilloscope.query(\":MEASure:ITEM? VPP,CHANnel2\",0.8)) ##:MEASure:VRMS?\n",
    "    #time.sleep(0.5)\n",
    "    results[idx, 3] = float(oscilloscope.query(\":MEASure:ITEM? FREQuency,CHANnel2\",0.8)) ##:MEASure:VRMS?\n",
    "    results[idx,4]=f\n",
    "    time_base = oscilloscope.query(\":TIM:SCAL?\")\n",
    "    #oscilloscope.write(\":TIM:SCAL %f\"%(float(time_base)/4.0))\n",
    "    # Change to mode AC...\n",
    "    #oscilloscope.write(\":RST\")\n",
    "    #oscilloscope.write(\":AUT\")\n",
    "    #oscilloscope.write(\":CHAN1:COUP AC\")\n",
    "    \n",
    "    #oscilloscope.write(\":TIM:SCAL %f\"%(float(time_base)/4.0))\n",
    "    # Change to mode AC...\n",
    "    oscilloscope.write(\":CHAN2:COUP AC\")\n",
    "    cont=cont+1\n",
    "    print(cont)\n",
    "    print(\"APPL:SIN %f,1.0,0.0\" % (f,))\n",
    "    print(results[idx, 4])\n",
    "    print(results[idx, 0])\n",
    "    print(results[idx, 1])\n",
    "    print(results[idx, 2])\n",
    "    print('frequency=')\n",
    "    print(results[idx, 3])\n",
    "    print('therory f')\n",
    "    print(f)\n",
    "    #oscilloscope.write(\":AUT\")\n",
    "    \n",
    "filesave=\"MesuresFiltre.csv\"\n",
    "with open(filesave, \"w\") as f:\n",
    "    writer = csv.writer(f, delimiter=',')\n",
    "    writer.writerow([\"#FdDelay\", \"In (Vrms)\", \"Out (Vrms)\", 'Frequency_real','Frequency_theory','Fphase'])\n",
    "    writer.writerows(results)\n",
    "    \n",
    "   \n"
   ]
  },
  {
   "cell_type": "code",
   "execution_count": null,
   "metadata": {},
   "outputs": [],
   "source": [
    "filesave=\"MesuresFiltre.csv\"\n",
    "with open(filesave, \"w\") as f:\n",
    "    writer = csv.writer(f, delimiter=',')\n",
    "    writer.writerow([\"#FdDelay\", \"In (Vrms)\", \"Out (Vrms)\", 'Frequency_real','Frequency_theory','Fphase'])\n",
    "    writer.writerows(results)"
   ]
  },
  {
   "cell_type": "code",
   "execution_count": null,
   "metadata": {},
   "outputs": [],
   "source": [
    "oscilloscope.query(\":MEASure:ITEM? FPHase,CHANnel1,CHANnel2\", 0.2)"
   ]
  },
  {
   "cell_type": "code",
   "execution_count": null,
   "metadata": {},
   "outputs": [],
   "source": []
  },
  {
   "cell_type": "code",
   "execution_count": null,
   "metadata": {
    "scrolled": true
   },
   "outputs": [],
   "source": [
    "import pandas as pd\n",
    "data = pd.read_csv(\"MesuresFiltre.csv\") \n",
    "#data = data.dropna(axis=\"columns\", how=\"any\")\n",
    "data = data.dropna()\n",
    "results=data\n",
    "data.head()\n"
   ]
  },
  {
   "cell_type": "code",
   "execution_count": null,
   "metadata": {},
   "outputs": [],
   "source": [
    "s = data.iloc[:,1]\n",
    "#column_B = a_dataframe.iloc[:, 1]\n",
    "s"
   ]
  },
  {
   "cell_type": "code",
   "execution_count": null,
   "metadata": {},
   "outputs": [],
   "source": [
    "## To plot the amplitude\n",
    "import numpy as np\n",
    "# Visualizacion de la ganancia en función de las frecuencias.\n",
    "gain = 20*np.log10(data.iloc[:, 2] / data.iloc[:, 1])\n",
    "gain = 20*np.log10(data.iloc[:, 2] / data.iloc[:, 1])\n",
    "\n",
    "plt.figure(figsize=(15, 10))\n",
    "plt.semilogx(data.iloc[:, 3], gain, '-o')\n",
    "plt.grid(True, 'minor')\n",
    "plt.grid(True, 'major')\n",
    "#plt.ylim( (np.min(gain)-2.0, np.max(gain)+2.0) )\n",
    "plt.ylabel('Amplitude [dB]')\n",
    "plt.xlabel('Frequency [Hz]')\n",
    "plt.title(\"Diagrama from Bode Filter\")\n",
    "plt.show()"
   ]
  },
  {
   "cell_type": "code",
   "execution_count": null,
   "metadata": {},
   "outputs": [],
   "source": [
    "# To plot the phase"
   ]
  },
  {
   "cell_type": "code",
   "execution_count": null,
   "metadata": {},
   "outputs": [],
   "source": []
  },
  {
   "cell_type": "code",
   "execution_count": null,
   "metadata": {},
   "outputs": [],
   "source": [
    "import numpy as np\n",
    "# Visualizacion de la ganancia en función de las frecuencias.\n",
    "gain = 20*np.log10(data.iloc[:, 2] / data.iloc[:, 1])\n",
    "gain = 20*np.log10(data.iloc[:, 2] / data.iloc[:, 1])\n",
    "\n",
    "\n",
    "\n",
    "plt.figure(figsize=(15, 10))\n",
    "plt.semilogx(data.iloc[:, 3], gain, '-o')\n",
    "plt.grid(True, 'minor')\n",
    "plt.grid(True, 'major')\n",
    "#plt.ylim( (np.min(gain)-2.0, np.max(gain)+2.0) )\n",
    "plt.ylabel('Amplitude [dB]')\n",
    "plt.xlabel('Frequency [Hz]')\n",
    "plt.title(\"Diagrama from Bode Filter\")\n",
    "plt.show()"
   ]
  },
  {
   "cell_type": "markdown",
   "metadata": {},
   "source": [
    "BOTH GRAPHS"
   ]
  },
  {
   "cell_type": "code",
   "execution_count": null,
   "metadata": {},
   "outputs": [],
   "source": [
    "from scipy import signal\n",
    "from matplotlib.figure import Figure \n",
    "#b, a = signal.butter(1, 1.0/(27e5*1.5e-9), 'low', analog=True)\n",
    "b, a = signal.butter(1, 1.0/(2.7e6*22e-9), 'low', analog=True)\n",
    "w, h = signal.freqs(b, a)\n",
    "f_th = w/2*np.pi\n",
    "g_th = 20 * np.log10(abs(h))\n",
    "f_me =data.iloc[:, 4]\n",
    "\n",
    "ph_th = np.angle(h)\n",
    "periods = 1.0/data.iloc[:, 0]\n",
    "ph_me = -2.0*np.pi*(data.iloc[:, 3]/periods)\n",
    "\n",
    "ph_me=data.iloc[:,5]\n",
    "\n",
    "##############\n",
    "###EXPERIMENTAL#########\n",
    "gain = 20*np.log10(data.iloc[:, 2] / data.iloc[:, 1])\n",
    "\n",
    "##########\n",
    "####################BOTH######\n",
    "plt.figure(figsize=(15, 10))\n",
    "plt.semilogx(data.iloc[:, 3], gain, '-o')\n",
    "plt.semilogx(gain, gain, '-o')\n",
    "\n",
    "plt.grid(True, 'minor')\n",
    "plt.grid(True, 'major')\n",
    "#plt.ylim( (np.min(gain)-2.0, np.max(gain)+2.0) )\n",
    "plt.ylabel('Amplitude [dB]')\n",
    "plt.xlabel('Frequency [Hz]')\n",
    "plt.title(\"Diagrama from Bode Filter\")\n",
    "plt.show() \n",
    "##############################\n"
   ]
  },
  {
   "cell_type": "code",
   "execution_count": null,
   "metadata": {},
   "outputs": [],
   "source": [
    "from scipy import signal\n",
    "\n",
    "############Theoretical\n",
    "#b, a = signal.butter(1, 1.0/(27e5*1.5e-9), 'low', analog=True)\n",
    "b, a = signal.butter(1, 1.0/(2.7e6*22e-9), 'low', analog=True)\n",
    "b, a = signal.butter(1, 1.0/(2.7e6*42e-9), 'low', analog=True)\n",
    "#b, a = signal.butter(1, 1.0/(27e5*1.5e-9), 'low', analog=True)\n",
    "w, h = signal.freqs(b, a)\n",
    "f_th = w/2*np.pi\n",
    "#g_th = 20 * np.log10(abs(h))\n",
    "g_th = 20 * np.log10(abs(h)) \n",
    "\n",
    "f_me =data.iloc[:, 4]\n",
    "\n",
    "ph_th = np.angle(h)\n",
    "\n",
    "\n",
    "###########Plotting\n",
    "\n",
    "f_me =data.iloc[:, 4]\n",
    "\n",
    "gain = 20*np.log10(data.iloc[:, 2] / data.iloc[:, 1])\n",
    "\n",
    "ph_th = np.angle(h)\n",
    "periods = 1.0/data.iloc[:, 0]\n",
    "#ph_me = -2.0*np.pi*(data.iloc[:, 3]/periods)\n",
    "\n",
    "ph_me=data.iloc[:,5]\n",
    "#g_th = 20 * np.log10(abs(h))\n",
    "g_th = 20*np.log10(abs(h))-12.4\n",
    "\n",
    "plt.figure(figsize=(15, 10))\n",
    "plt.semilogx(f_th, g_th, '-')\n",
    "##\n",
    "plt.semilogx(data.iloc[:, 3], gain, '-o')\n",
    "#plt.semilogx(f_th, g_th, '-')\n",
    "\n",
    "##\n",
    "\n",
    "#plt.semilogx(f_me, ph_me, '-o')\n",
    "plt.grid(True, 'minor')\n",
    "plt.grid(True, 'major')\n",
    "plt.ylabel('gAIN [rad]')\n",
    "plt.xlabel(u'Frequence [Hz]')\n",
    "plt.title(\"Bode Diagram RC\")\n",
    "plt.legend((\"Theory\",\"Practice\"))\n",
    "\n",
    "\n",
    "ax = plt.axes()\n",
    "ax.set_facecolor(\"white\")\n",
    "# OR\n",
    "ax.set(facecolor = \"white\")\n",
    "\n",
    "\n",
    "\n",
    "\n",
    "#plt.margins(0.1, 0.1)\n",
    "plt.savefig(\"FiltreRCPhase.png\")\n",
    "plt.show()"
   ]
  },
  {
   "cell_type": "markdown",
   "metadata": {},
   "source": [
    "PHASE DETECTION"
   ]
  },
  {
   "cell_type": "code",
   "execution_count": null,
   "metadata": {},
   "outputs": [],
   "source": [
    "f_me =data.iloc[:, 4]\n",
    "\n",
    "ph_th = np.angle(h)\n",
    "periods = 1.0/data.iloc[:, 3]\n",
    "ph_me = 2.0*np.pi*(data.iloc[:, 0]/periods)\n",
    "\n",
    "#ph_me=data.iloc[:,5]\n",
    "\n",
    "plt.semilogx(data.iloc[:, 3], ph_me, '-o')\n",
    "\n",
    "\n",
    "#plt.figure(figsize=(15, 10))\n",
    "plt.semilogx(f_th, ph_th, '-')\n",
    "#plt.semilogx(f_me, ph_me, '-o')\n",
    "plt.grid(True, 'minor')\n",
    "plt.grid(True, 'major')\n",
    "plt.ylabel('Phase [rad]')\n",
    "plt.xlabel(u'FrequencY [Hz]')\n",
    "\n",
    "\n",
    "ax = plt.axes()\n",
    "ax.set_facecolor(\"white\")\n",
    "# OR\n",
    "ax.set(facecolor = \"white\")\n",
    "\n",
    "plt.title(\"Bode Diagram RC\")\n",
    "plt.legend((\"Practice\", \"Thoretical\"))\n",
    "plt.margins(0.1, 0.1)\n",
    "plt.savefig(\"FiltreRCPhase.png\")\n",
    "plt.figure(figsize=(15, 10))\n",
    "plt.show()"
   ]
  },
  {
   "cell_type": "code",
   "execution_count": null,
   "metadata": {},
   "outputs": [],
   "source": [
    "print(len(f_th))\n",
    "\n",
    "print(len(data.iloc[:, 3]))"
   ]
  },
  {
   "cell_type": "markdown",
   "metadata": {},
   "source": [
    "WITH PHASE DATA"
   ]
  },
  {
   "cell_type": "code",
   "execution_count": null,
   "metadata": {},
   "outputs": [],
   "source": [
    "f_me =data.iloc[:, 4]\n",
    "\n",
    "ph_th = np.angle(h)\n",
    "periods = 1.0/data.iloc[:, 0]\n",
    "ph_me = 2.0*np.pi*(data.iloc[:, 3]/periods)\n",
    "#ph_me = 2.0*np.pi*(data.iloc[:, 5]/periods)\n",
    "\n",
    "#ph_me=data.iloc[:,5]\n",
    "\n",
    "plt.semilogx(data.iloc[:, 3], ph_me, '-o')\n",
    "\n",
    "\n",
    "#plt.figure(figsize=(15, 10))\n",
    "plt.semilogx(f_th, ph_th, '-')\n",
    "#plt.semilogx(f_me, ph_me, '-o')\n",
    "plt.grid(True, 'minor')\n",
    "plt.grid(True, 'major')\n",
    "plt.ylabel('Phase [rad]')\n",
    "plt.xlabel(u'FrequencY [Hz]')\n",
    "plt.title(\"Bode Diagram RC\")\n",
    "plt.legend((\"tHEORY\",\"Practice\"))\n",
    "plt.margins(0.1, 0.1)\n",
    "plt.savefig(\"FiltreRCPhase.png\")\n",
    "plt.show()"
   ]
  },
  {
   "cell_type": "markdown",
   "metadata": {},
   "source": [
    "PHASE CALCULATION"
   ]
  },
  {
   "cell_type": "code",
   "execution_count": null,
   "metadata": {},
   "outputs": [],
   "source": []
  },
  {
   "cell_type": "code",
   "execution_count": null,
   "metadata": {
    "scrolled": true
   },
   "outputs": [],
   "source": [
    "f_me =data.iloc[:, 4]\n",
    "\n",
    "ph_th = np.angle(h)\n",
    "periods = 1.0/data.iloc[:, 0]\n",
    "#ph_me = -2.0*np.pi*(data.iloc[:, 3]/periods)\n",
    "\n",
    "ph_me=data.iloc[:,5]\n",
    "\n",
    "plt.figure(figsize=(15, 10))\n",
    "#plt.semilogx(f_th, ph_th, '-')\n",
    "plt.semilogx(f_me, ph_me, '-o')\n",
    "plt.grid(True, 'minor')\n",
    "plt.grid(True, 'major')\n",
    "plt.ylabel('Phase [rad]')\n",
    "plt.xlabel(u'Frequence [Hz]')\n",
    "plt.title(\"Bode Diagram RC\")\n",
    "plt.legend((\"Thery\",\"Practice\"))\n",
    "plt.margins(0.1, 0.1)\n",
    "plt.savefig(\"FiltreRCPhase.png\")\n",
    "plt.show()"
   ]
  }
 ],
 "metadata": {
  "kernelspec": {
   "display_name": "Python 3",
   "language": "python",
   "name": "python3"
  },
  "language_info": {
   "codemirror_mode": {
    "name": "ipython",
    "version": 3
   },
   "file_extension": ".py",
   "mimetype": "text/x-python",
   "name": "python",
   "nbconvert_exporter": "python",
   "pygments_lexer": "ipython3",
   "version": "3.7.6"
  }
 },
 "nbformat": 4,
 "nbformat_minor": 4
}
